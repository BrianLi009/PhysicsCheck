{
 "cells": [
  {
   "cell_type": "code",
   "execution_count": 10,
   "metadata": {},
   "outputs": [
    {
     "name": "stdout",
     "output_type": "stream",
     "text": [
      "88282\n"
     ]
    }
   ],
   "source": [
    "our_candidate = []\n",
    "file1 = open('22.exhaust', 'r')\n",
    "for line in file1:\n",
    "    info = line[2:-2].split(' ')[:-1]\n",
    "    potential_edge = []\n",
    "    for j in range(22):\n",
    "        for i in range(22):\n",
    "            if i < j:\n",
    "                potential_edge.append((i,j))\n",
    "    actual_edge = []\n",
    "    for i in range(len(potential_edge)):\n",
    "        if int(info[i]) > 0:\n",
    "            actual_edge.append(potential_edge[i])\n",
    "    G = Graph(actual_edge)\n",
    "    our_candidate.append(G)\n",
    "print (len(our_candidate))"
   ]
  },
  {
   "cell_type": "code",
   "execution_count": 11,
   "metadata": {},
   "outputs": [],
   "source": [
    "#check connected, biconnect, triconnected number\n",
    "connected = 0\n",
    "biconnected = 0\n",
    "triconnected = 0\n",
    "for graph in our_candidate:\n",
    "    if graph.is_connected():\n",
    "        connected += 1\n",
    "    if graph.is_biconnected():\n",
    "        biconnected += 1\n",
    "    if graph.is_triconnected():\n",
    "        triconnected += 1"
   ]
  },
  {
   "cell_type": "code",
   "execution_count": 12,
   "metadata": {},
   "outputs": [
    {
     "name": "stdout",
     "output_type": "stream",
     "text": [
      "88282\n"
     ]
    }
   ],
   "source": [
    "print (connected)"
   ]
  },
  {
   "cell_type": "code",
   "execution_count": 13,
   "metadata": {},
   "outputs": [
    {
     "name": "stdout",
     "output_type": "stream",
     "text": [
      "88282\n"
     ]
    }
   ],
   "source": [
    "print (biconnected)"
   ]
  },
  {
   "cell_type": "code",
   "execution_count": 14,
   "metadata": {},
   "outputs": [
    {
     "name": "stdout",
     "output_type": "stream",
     "text": [
      "88282\n"
     ]
    }
   ],
   "source": [
    "print (triconnected)"
   ]
  },
  {
   "cell_type": "code",
   "execution_count": null,
   "metadata": {},
   "outputs": [],
   "source": []
  }
 ],
 "metadata": {
  "kernelspec": {
   "display_name": "SageMath 9.2",
   "language": "sage",
   "name": "sagemath"
  },
  "language_info": {
   "codemirror_mode": {
    "name": "ipython",
    "version": 3
   },
   "file_extension": ".py",
   "mimetype": "text/x-python",
   "name": "python",
   "nbconvert_exporter": "python",
   "pygments_lexer": "ipython3",
   "version": "3.7.7"
  }
 },
 "nbformat": 4,
 "nbformat_minor": 4
}
