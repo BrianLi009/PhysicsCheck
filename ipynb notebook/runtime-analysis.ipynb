{
 "cells": [
  {
   "cell_type": "code",
   "execution_count": 21,
   "metadata": {},
   "outputs": [],
   "source": [
    "file1 = open('56195184.analysis', 'r')\n",
    "Lines = file1.readlines()\n",
    "solution=[]\n",
    "runtime=[]\n",
    "count = 0\n",
    "# Strips the newline character\n",
    "for line in Lines:\n",
    "    if count % 2 == 0:\n",
    "        solution.append(int(line.split(\" \")[1][:-1]))\n",
    "    else:\n",
    "        runtime.append(int(line.split(\" \")[1][:-1]))\n",
    "    count += 1"
   ]
  },
  {
   "cell_type": "code",
   "execution_count": 18,
   "metadata": {},
   "outputs": [
    {
     "data": {
      "image/png": "[encoded data removed]",
      "text/plain": [
       "<Figure size 432x288 with 1 Axes>"
      ]
     },
     "metadata": {
      "needs_background": "light"
     },
     "output_type": "display_data"
    }
   ],
   "source": [
    "import matplotlib.pyplot as plt\n",
    "plt.plot(solution,'g*', runtime, 'ro')\n",
    "plt.show()"
   ]
  },
  {
   "cell_type": "code",
   "execution_count": 22,
   "metadata": {},
   "outputs": [
    {
     "name": "stdout",
     "output_type": "stream",
     "text": [
      "[[1.         0.70343827]\n",
      " [0.70343827 1.        ]]\n"
     ]
    }
   ],
   "source": [
    "import numpy\n",
    "print(numpy.corrcoef(solution,runtime))"
   ]
  },
  {
   "cell_type": "code",
   "execution_count": 71,
   "metadata": {},
   "outputs": [],
   "source": [
    "import numpy\n",
    "import matplotlib.pyplot as plt\n",
    "def analysis(file):\n",
    "    file1 = open(file, 'r')\n",
    "    file2 = open(file, 'r')\n",
    "    data = file2.read()\n",
    "    Lines = file1.readlines()\n",
    "    solution=[]\n",
    "    runtime=[]\n",
    "    count = 0\n",
    "    # Strips the newline character\n",
    "    for line in Lines:\n",
    "        f = line.split(\" \")[0]\n",
    "        if data.count(f) == 2:\n",
    "            if count % 2 == 0:\n",
    "                solution.append(int(line.split(\" \")[1][:-1]))\n",
    "            else:\n",
    "                runtime.append(int(line.split(\" \")[1][:-1]))\n",
    "        count += 1\n",
    "    #plt.plot(solution,'g*', runtime, 'ro')\n",
    "    #plt.show()\n",
    "    print(numpy.corrcoef(solution,runtime))"
   ]
  },
  {
   "cell_type": "code",
   "execution_count": 72,
   "metadata": {},
   "outputs": [
    {
     "name": "stdout",
     "output_type": "stream",
     "text": [
      "[[1.         0.70343827]\n",
      " [0.70343827 1.        ]]\n"
     ]
    }
   ],
   "source": [
    "analysis(\"56195184.analysis\")"
   ]
  },
  {
   "cell_type": "code",
   "execution_count": 73,
   "metadata": {},
   "outputs": [
    {
     "name": "stdout",
     "output_type": "stream",
     "text": [
      "[[ 1.         -0.12679401]\n",
      " [-0.12679401  1.        ]]\n"
     ]
    }
   ],
   "source": [
    "analysis(\"56114652.analysis\")"
   ]
  },
  {
   "cell_type": "code",
   "execution_count": null,
   "metadata": {},
   "outputs": [],
   "source": [
    "#the error is bcs some files are empty, we can just ignore them"
   ]
  }
 ],
 "metadata": {
  "kernelspec": {
   "display_name": "Python 3",
   "language": "python",
   "name": "python3"
  },
  "language_info": {
   "codemirror_mode": {
    "name": "ipython",
    "version": 3
   },
   "file_extension": ".py",
   "mimetype": "text/x-python",
   "name": "python",
   "nbconvert_exporter": "python",
   "pygments_lexer": "ipython3",
   "version": "3.8.5"
  }
 },
 "nbformat": 4,
 "nbformat_minor": 4
}
