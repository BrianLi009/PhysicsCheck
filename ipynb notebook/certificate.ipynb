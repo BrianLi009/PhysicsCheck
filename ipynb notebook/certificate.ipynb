{
 "cells": [
  {
   "cell_type": "markdown",
   "metadata": {},
   "source": [
    "We want to show that the four extra graphs do not belong in the existing results by Bas and Sanders"
   ]
  },
  {
   "cell_type": "code",
   "execution_count": 1,
   "metadata": {},
   "outputs": [],
   "source": [
    "import itertools\n",
    "import math"
   ]
  },
  {
   "cell_type": "code",
   "execution_count": 12,
   "metadata": {},
   "outputs": [],
   "source": [
    "from collections import Counter\n",
    "from itertools import chain\n",
    "\n",
    "def check_squarefree(graph):\n",
    "    vertices_lst = list(graph.vertices())\n",
    "    possible_c4 = list(itertools.combinations(vertices_lst, 4))\n",
    "    squares = False\n",
    "    for c4 in possible_c4:\n",
    "        edge_lst = graph.subgraph(list(c4)).edges()\n",
    "        if len(edge_lst) >= 4:\n",
    "            res = Counter(chain(*edge_lst))\n",
    "            del res[None]\n",
    "            value_lst = []\n",
    "            for value in res.values():\n",
    "                value_lst.append(value)\n",
    "            if value_lst == [2,2,2,2]:\n",
    "                print (\"squares exists\")\n",
    "                squares = True\n",
    "    if squares == False:\n",
    "        print (\"the graph is squarefree\")"
   ]
  },
  {
   "cell_type": "code",
   "execution_count": 19,
   "metadata": {},
   "outputs": [],
   "source": [
    "def check_all_triangle(graph):\n",
    "    vertices_lst = list(graph.vertices())\n",
    "    edge_lst = [(a, b) for (a, b, c) in graph.edges()]\n",
    "    good_vertex = []\n",
    "    for vertex in vertices_lst:\n",
    "        adjacent_lst = graph.neighbors(vertex)\n",
    "        all_possible = list(itertools.combinations(adjacent_lst, 2))\n",
    "        for comb in all_possible:\n",
    "            if comb in edge_lst or Reverse(comb) in edge_lst:\n",
    "                good_vertex.append(vertex)\n",
    "    for v in vertices_lst:\n",
    "        if v not in good_vertex:\n",
    "            print (v)\n",
    "            return False\n",
    "    return True\n",
    "\n",
    "def Reverse(tuples):\n",
    "    new_tup = tuples[::-1]\n",
    "    return new_tup"
   ]
  },
  {
   "cell_type": "code",
   "execution_count": 29,
   "metadata": {},
   "outputs": [],
   "source": [
    "def colorable(graph):\n",
    "    \"\"\"\n",
    "    given a list of edges, return a valid coloring if possible\n",
    "    we can move this function to PySAT to change the SAT solver we are using.\n",
    "    \"\"\"\n",
    "    solver = SAT()\n",
    "    edge_lst = [(a+1, b+1) for (a, b, c) in graph.edges()]\n",
    "    for edge in edge_lst:\n",
    "        solver.add_clause(tuple([-edge[0],-edge[1]])) #no two adjacent vertices can be both 1\n",
    "    vertices_lst = list(range(1, (max(max(edge_lst,key=lambda item:item[1])))+1))\n",
    "    potential_triangles = list(itertools.combinations(vertices_lst, 3))\n",
    "    for triangle in potential_triangles:\n",
    "        v1 = triangle[0]\n",
    "        v2 = triangle[1]\n",
    "        v3 = triangle[2]\n",
    "        if ((v1, v2) in edge_lst or (v2,v1) in edge_lst) and ((v2, v3) in edge_lst or (v3, v2) in edge_lst) and ((v1, v3) in edge_lst or (v3,v1) in edge_lst):\n",
    "            solver.add_clause((v1,v2,v3))\n",
    "            solver.add_clause((-v1, -v2))\n",
    "            solver.add_clause((-v2, -v3))\n",
    "            solver.add_clause((-v1, -v3))\n",
    "        \"\"\"\n",
    "        if the triangle exists in this particular graph, it must satisfy 010 coloring\n",
    "        \"\"\"\n",
    "    return solver()"
   ]
  },
  {
   "cell_type": "markdown",
   "metadata": {},
   "source": [
    "We first show that these four graphs are non-isomorphic to any of the existing graph, and non-isomoprhic to one another as well."
   ]
  },
  {
   "cell_type": "code",
   "execution_count": 14,
   "metadata": {},
   "outputs": [
    {
     "name": "stdout",
     "output_type": "stream",
     "text": [
      "there are 4 new candidates\n",
      "there are 441 old candidates\n",
      "the 4 new candidates are not isomorphic to each other.\n"
     ]
    }
   ],
   "source": [
    "ext_1 = 'S????CB@GoD?LCQPI@BCCaaEPBD@GEG@C'\n",
    "ext_2 = 'S???GKGCGqCMI_QAIAR?IaGAOGD?CMG@O'\n",
    "ext_3 = 'S???GKGCGqCMIAOgIAB?EaGAOHD?GMG@O'\n",
    "ext_4 = 'S????CCA?`b_GUI`GTI_GW?eDEC_OE?@G'\n",
    "new_candidates = [Graph(ext_1), Graph(ext_2), Graph(ext_3), Graph(ext_4)]\n",
    "print ('there are ' + str(len(new_candidates)) + ' new candidates')\n",
    "old_candidates = []\n",
    "file1 = open('solutions_20.txt', 'r')\n",
    "for line in file1:\n",
    "    G = Graph(line[:-1])\n",
    "    old_candidates.append(G)\n",
    "print ('there are ' + str(len(old_candidates)) + ' old candidates')\n",
    "for comparison in itertools.combinations(new_candidates, 2):\n",
    "    graph_1 = comparison[0]\n",
    "    graph_2 = comparison[1]\n",
    "    if graph_1.is_isomorphic(graph_2):\n",
    "        print (\"there exist isomorphic graphs\")\n",
    "print (\"the 4 new candidates are not isomorphic to each other.\")"
   ]
  },
  {
   "cell_type": "code",
   "execution_count": 25,
   "metadata": {},
   "outputs": [
    {
     "name": "stdout",
     "output_type": "stream",
     "text": [
      "check that every graph is squarefree\n",
      "the graph is squarefree\n",
      "the graph is squarefree\n",
      "the graph is squarefree\n",
      "the graph is squarefree\n"
     ]
    }
   ],
   "source": [
    "print (\"check that every graph is squarefree\")\n",
    "for graph in new_candidates:\n",
    "    check_squarefree(graph)"
   ]
  },
  {
   "cell_type": "code",
   "execution_count": 22,
   "metadata": {},
   "outputs": [
    {
     "name": "stdout",
     "output_type": "stream",
     "text": [
      "check that every vertex is part of a triangle\n",
      "True\n",
      "True\n",
      "True\n",
      "True\n"
     ]
    }
   ],
   "source": [
    "print (\"check that every vertex is part of a triangle\")\n",
    "for graph in new_candidates:\n",
    "    print (check_all_triangle(graph))"
   ]
  },
  {
   "cell_type": "code",
   "execution_count": 24,
   "metadata": {},
   "outputs": [
    {
     "name": "stdout",
     "output_type": "stream",
     "text": [
      "check the minimum degree is 3\n",
      "[6, 5, 5, 5, 5, 5, 5, 4, 4, 4, 4, 4, 4, 4, 4, 4, 4, 4, 3, 3]\n",
      "[5, 5, 5, 5, 5, 5, 4, 4, 4, 4, 4, 4, 4, 4, 4, 4, 4, 4, 3, 3]\n",
      "[5, 5, 5, 5, 5, 5, 4, 4, 4, 4, 4, 4, 4, 4, 4, 4, 4, 4, 3, 3]\n",
      "[6, 6, 6, 6, 6, 5, 4, 4, 4, 4, 4, 3, 3, 3, 3, 3, 3, 3, 3, 3]\n"
     ]
    }
   ],
   "source": [
    "print (\"check the minimum degree is 3\")\n",
    "for graph in new_candidates:\n",
    "    print (graph.degree_sequence())"
   ]
  },
  {
   "cell_type": "code",
   "execution_count": 30,
   "metadata": {},
   "outputs": [
    {
     "name": "stdout",
     "output_type": "stream",
     "text": [
      "check the graph is non-colorable\n",
      "False\n",
      "False\n",
      "False\n",
      "False\n"
     ]
    }
   ],
   "source": [
    "print (\"check the graph is non-colorable\")\n",
    "for graph in new_candidates:\n",
    "    print (colorable(graph))"
   ]
  },
  {
   "cell_type": "code",
   "execution_count": null,
   "metadata": {},
   "outputs": [],
   "source": []
  }
 ],
 "metadata": {
  "kernelspec": {
   "display_name": "SageMath 9.2",
   "language": "sage",
   "name": "sagemath"
  },
  "language_info": {
   "codemirror_mode": {
    "name": "ipython",
    "version": 3
   },
   "file_extension": ".py",
   "mimetype": "text/x-python",
   "name": "python",
   "nbconvert_exporter": "python",
   "pygments_lexer": "ipython3",
   "version": "3.7.7"
  }
 },
 "nbformat": 4,
 "nbformat_minor": 4
}
