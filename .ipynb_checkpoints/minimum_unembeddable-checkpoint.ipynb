{
 "cells": [
  {
   "cell_type": "code",
   "execution_count": 1,
   "metadata": {},
   "outputs": [],
   "source": [
    "def check_subgraph(bigger_graphs, smaller_graphs):\n",
    "    \"\"\"bigger_graphs and smaller_graphs are a list of g6_string\"\"\"\n",
    "    for big_graph in bigger_graphs:\n",
    "        graph1 = Graph(big_graph)\n",
    "        for small_graph in smaller_graphs:\n",
    "            graph2 = Graph(small_graph)\n",
    "            h1 = graph1.subgraph_search(graph2)\n",
    "            if h1 != None:\n",
    "                print (small_graph + \" is a subgraph of \" + big_graph)\n",
    "                h1.show()"
   ]
  },
  {
   "cell_type": "code",
   "execution_count": null,
   "metadata": {},
   "outputs": [],
   "source": [
    "bigger_graphs = ['JGD?gO`@~o?', 'JICH?CDs\\[?', 'JGCHaH_bKe?', 'J?GX?dH`f_?'\n",
    ",'J@?IASUJF_?'\n",
    ",'J?PH?ciDV_?'\n",
    ",'JGD@CeKTPT?'\n",
    ",'JIHPO_H`cB_'\n",
    ",'J@?IQGiDV_?'\n",
    ",'J@D?GV_Gyw?'\n",
    ",'JGDAH_gdST?'\n",
    ",'J@`KACXHf_?'\n",
    ",'JsOH?`JH_i_'\n",
    ",'JJOGPGQ`SD_'\n",
    ",'JK`POB`DOU_'\n",
    ",'J@`ICC[Gv_?'\n",
    ",'JIGGcIBTPT?'\n",
    ",'J`hSA?hD_F_'\n",
    ",'JRPCSGoAgJ_']\n",
    "smaller_graphs = ['I?qa``eeO', 'ICOedPKL?']\n",
    "check_subgraph(bigger_graphs, smaller_graphs)"
   ]
  }
 ],
 "metadata": {
  "kernelspec": {
   "display_name": "SageMath 9.2",
   "language": "sage",
   "name": "sagemath"
  },
  "language_info": {
   "codemirror_mode": {
    "name": "ipython",
    "version": 3
   },
   "file_extension": ".py",
   "mimetype": "text/x-python",
   "name": "python",
   "nbconvert_exporter": "python",
   "pygments_lexer": "ipython3",
   "version": "3.7.7"
  }
 },
 "nbformat": 4,
 "nbformat_minor": 4
}
